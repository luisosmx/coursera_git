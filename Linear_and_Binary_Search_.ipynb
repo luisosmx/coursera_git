{
  "nbformat": 4,
  "nbformat_minor": 0,
  "metadata": {
    "colab": {
      "provenance": [],
      "authorship_tag": "ABX9TyNA/Y4VyGZXzqLztA1QU/V0",
      "include_colab_link": true
    },
    "kernelspec": {
      "name": "python3",
      "display_name": "Python 3"
    },
    "language_info": {
      "name": "python"
    }
  },
  "cells": [
    {
      "cell_type": "markdown",
      "metadata": {
        "id": "view-in-github",
        "colab_type": "text"
      },
      "source": [
        "<a href=\"https://colab.research.google.com/github/luisosmx/coursera_git/blob/main/Linear_and_Binary_Search_.ipynb\" target=\"_parent\"><img src=\"https://colab.research.google.com/assets/colab-badge.svg\" alt=\"Open In Colab\"/></a>"
      ]
    },
    {
      "cell_type": "code",
      "execution_count": 1,
      "metadata": {
        "id": "1fRvCWXhVrE7"
      },
      "outputs": [],
      "source": [
        "def linear_search(list, key):\n",
        "    \"\"\"If key is in the list returns its position in the list,\n",
        "       otherwise returns -1.\"\"\"\n",
        "    for i, item in enumerate(list):\n",
        "        if item == key:\n",
        "            return i\n",
        "    return -1\n",
        " \n",
        "def binary_search(list, key):\n",
        "    \"\"\"Returns the position of key in the list if found, -1 otherwise.\n",
        "\n",
        "    List must be sorted.\n",
        "    \"\"\"\n",
        "    left = 0\n",
        "    right = len(list) - 1\n",
        "    while left <= right:\n",
        "        middle = (left + right) // 2\n",
        "        \n",
        "        if list[middle] == key:\n",
        "            return middle\n",
        "        if list[middle] > key:\n",
        "            right = middle - 1\n",
        "        if list[middle] < key:\n",
        "            left = middle + 1\n",
        "    return -1\n"
      ]
    }
  ]
}